{
 "cells": [
  {
   "cell_type": "markdown",
   "metadata": {
    "id": "dGyQxSV4hQQR"
   },
   "source": [
    "# Optimizing Production Capacity for Giant Motor Company Using Mixed Integer Linear Programming (MILP)\n",
    "## Giant Motor Company\n",
    "\n",
    "This case deals with strategic planning issues for a large company. The main issue is planning the company’s production capacity for the coming year. At issue is the overall level of capacity and the type of capacity—for example, the degree of flexibility in the manufacturing system. The main tool used to aid the company’s planning process is a mixed integer linear programming (MILP) model. A mixed integer program has both integer and continuous variables.\n",
    "\n",
    "### Problem Statement\n",
    "\n",
    "The Giant Motor Company (GMC) produces three lines of cars for the domestic (U.S.) market: Lyras, Libras, and Hydras. The Lyra is a relatively inexpensive subcompact car that appeals mainly to first-time car owners and to households using it as a second car for commuting. The Libra is a sporty compact car that is sleeker, faster, and roomier than the Lyra. Without any options, the Libra costs slightly more than the Lyra; additional options increase the price. The Hydra is the luxury car of the GMC line. It is significantly more expensive than the Lyra and Libra, and it has the highest profit margin of the three cars.\n",
    "\n",
    "### Retooling Options for Capacity Expansion\n",
    "\n",
    "Currently GMC has three manufacturing plants in the United States. Each plant is dedicated to producing a single line of cars. In its planning for the coming year, GMC is considering the retooling of its Lyra and/or Libra plants. Retooling either plant would represent a major expense for the company. The retooled plants would have significantly increased production capacities. Although having greater fixed costs, the retooled plants would be more efficient and have lower marginal production costs—that is, higher marginal profit contributions. In addition, the retooled plants would be flexible—they would have the capability of producing more than one line of cars.\n",
    "\n",
    "The retooled Lyra and Libra plants are prefaced by the word new. The fixed costs and capacities in Table 6.9 are given on an annual basis. A dash in the profit margin section indicates that the plant cannot manufacture that line of car. For example, the new Lyra plant would be capable of producing both Lyras and Libras but not Hydras. The new Libra plant would be capable of producing any of the three lines of cars. Note, however, that the new Libra plant has a slightly lower profit margin for producing Hydras than the Hydra plant. The flexible new Libra plant is capable of producing the luxury Hydra model but is not as efficient as the current Hydra plant that is dedicated to Hydra production.\n",
    "\n",
    "The fixed costs are annual costs incurred by GMC, independent of the number of cars produced by the plant. For the current plant configurations, the fixed costs include property taxes, insurance, payments on the loan that was taken out to construct the plant, and so on. If a plant is retooled, the fixed costs will include the previous fixed costs plus the additional cost of the renovation. The additional renovation cost will be an annual cost representing the cost of the renovation amortized over a long period.\n",
    "\n",
    "### Demand for GMC Cars\n",
    "\n",
    "Short-term demand forecasts have been very reliable in the past and are expected to be reliable in the future.\n",
    "\n",
    "A quick comparison of plant capacities and demands indicates that GMC is faced with insufficient capacity. Partially offsetting the lack of capacity is the phenomenon of demand diversion. If a potential car buyer walks into a GMC dealer showroom wanting to buy a Lyra but the dealer is out of stock, frequently the salesperson can convince the customer to purchase the better Libra car, which is in stock. Unsatisfied demand for the Lyra is said to be diverted to the Libra. Only rarely in this situation can the salesperson convince the customer to switch to the luxury Hydra model.\n",
    "\n",
    "From past experience, GMC estimates that 30% of unsatisfied demand for Lyras is diverted to demand for Libras and 5% to demand for Hydras. Similarly, 10% of unsatisfied demand for Libras is diverted to demand for Hydras. For example, if the demand for Lyras is 1,400,000 cars, then the unsatisfied demand will be 400,000 if no capacity is added. Out of this unsatisfied demand,\n",
    "will materialize as demand for Libras, and will materialize as demand for Hydras. Similarly, if the demand for Libras is 1,220,000 cars (1,100,000 original demand plus 120,000 demand diverted from Lyras), then the unsatisfied demand for Lyras would be 420,000 if no capacity is added. Out of this unsatisfied demand, 42,000 will materialize as demand for Hydras. All other unsatisfied demand is lost to competitors.\n",
    "\n",
    "-- *Practical Management Science*"
   ]
  },
  {
   "cell_type": "code",
   "execution_count": null,
   "metadata": {
    "colab": {
     "base_uri": "https://localhost:8080/"
    },
    "executionInfo": {
     "elapsed": 6008,
     "status": "ok",
     "timestamp": 1730499155855,
     "user": {
      "displayName": "Srimukhi Sridhar Paidikondala",
      "userId": "12311320063438156495"
     },
     "user_tz": 420
    },
    "id": "xrvF20N4yXIi",
    "outputId": "15277516-6276-4c51-e430-946d0bb18f3d"
   },
   "outputs": [
    {
     "name": "stdout",
     "output_type": "stream",
     "text": [
      "\u001b[2K   \u001b[90m━━━━━━━━━━━━━━━━━━━━━━━━━━━━━━━━━━━━━━━━\u001b[0m \u001b[32m13.4/13.4 MB\u001b[0m \u001b[31m60.3 MB/s\u001b[0m eta \u001b[36m0:00:00\u001b[0m\n",
      "\u001b[?25h"
     ]
    }
   ],
   "source": [
    "!pip install -q gurobipy"
   ]
  },
  {
   "cell_type": "code",
   "execution_count": null,
   "metadata": {
    "colab": {
     "base_uri": "https://localhost:8080/"
    },
    "executionInfo": {
     "elapsed": 214,
     "status": "ok",
     "timestamp": 1730499174969,
     "user": {
      "displayName": "Srimukhi Sridhar Paidikondala",
      "userId": "12311320063438156495"
     },
     "user_tz": 420
    },
    "id": "eQC05wCnydQ2",
    "outputId": "c78cad09-de0c-4808-c03b-c4040ba6d6b8"
   },
   "outputs": [
    {
     "name": "stdout",
     "output_type": "stream",
     "text": [
      "(11, 0, 3)\n"
     ]
    }
   ],
   "source": [
    "import gurobipy as gp\n",
    "print(gp.gurobi.version())"
   ]
  },
  {
   "cell_type": "code",
   "execution_count": 1,
   "metadata": {
    "id": "1V2XN3FyhQQT"
   },
   "outputs": [],
   "source": [
    "import gurobipy as gp\n",
    "from gurobipy import GRB\n",
    "from itertools import product\n",
    "import numpy as np"
   ]
  },
  {
   "cell_type": "code",
   "execution_count": 2,
   "metadata": {
    "id": "7u54-YWGhQQU"
   },
   "outputs": [],
   "source": [
    "# Define the input data for plants, their capacities, fixed costs, profit margins, and demand\n",
    "DATA = {\n",
    "    \"Plants\": {\n",
    "        \"Lyra\": {\n",
    "            \"Capacity\": 1000 * 1000,\n",
    "            \"Fixed Cost\": 2000 * 1000000,\n",
    "            \"Plant Profit Margin\":\n",
    "                {\n",
    "                    \"Lyra\": 2 * 1000,\n",
    "                    \"Libra\": 0,\n",
    "                    \"Hydra\": 0\n",
    "                }\n",
    "        },\n",
    "        \"Libra\": {\n",
    "            \"Capacity\": 800 * 1000,\n",
    "            \"Fixed Cost\": 2000 * 1000000,\n",
    "            \"Plant Profit Margin\":\n",
    "                {\n",
    "                    \"Lyra\": 0,\n",
    "                    \"Libra\": 3 * 1000,\n",
    "                    \"Hydra\": 0\n",
    "                }\n",
    "        },\n",
    "        \"Hydra\": {\n",
    "            \"Capacity\": 900 * 1000,\n",
    "            \"Fixed Cost\": 2600 * 1000000,\n",
    "            \"Plant Profit Margin\":\n",
    "                {\n",
    "                    \"Lyra\": 0,\n",
    "                    \"Libra\": 0,\n",
    "                    \"Hydra\": 5 * 1000\n",
    "                }\n",
    "        },\n",
    "        \"New Lyra\": {\n",
    "            \"Capacity\": 1600 * 1000,\n",
    "            \"Fixed Cost\": 3400 * 1000000,\n",
    "            \"Plant Profit Margin\":\n",
    "                {\n",
    "                    \"Lyra\": 2.5 * 1000,\n",
    "                    \"Libra\": 3 * 1000,\n",
    "                    \"Hydra\": 0\n",
    "                }\n",
    "        },\n",
    "        \"New Libra\": {\n",
    "            \"Capacity\": 1800 * 1000,\n",
    "            \"Fixed Cost\": 3700 * 1000000,\n",
    "            \"Plant Profit Margin\":\n",
    "                {\n",
    "                    \"Lyra\": 2.3 * 1000,\n",
    "                    \"Libra\": 3.5 * 1000,\n",
    "                    \"Hydra\": 4.8 * 1000\n",
    "                }\n",
    "        }\n",
    "    },\n",
    "    \"Demand\": {\n",
    "        \"Lyra\": 1400 * 1000,\n",
    "        \"Libra\": 1100 * 1000,\n",
    "        \"Hydra\": 800 * 1000\n",
    "    },\n",
    "    \"Demand Diversion\": {\n",
    "        \"Lyra\": {\n",
    "            \"Libra\": .3,\n",
    "            \"Hydra\": .05\n",
    "        },\n",
    "        \"Libra\": {\n",
    "            \"Lyra\": 0,\n",
    "            \"Hydra\": .1\n",
    "        },\n",
    "        \"Hydra\": {\n",
    "            \"Lyra\": 0,\n",
    "            \"Libra\": 0\n",
    "        }\n",
    "    }\n",
    "}"
   ]
  },
  {
   "cell_type": "code",
   "execution_count": 3,
   "metadata": {
    "colab": {
     "base_uri": "https://localhost:8080/"
    },
    "executionInfo": {
     "elapsed": 192,
     "status": "ok",
     "timestamp": 1730508073483,
     "user": {
      "displayName": "Srimukhi Sridhar Paidikondala",
      "userId": "12311320063438156495"
     },
     "user_tz": 420
    },
    "id": "gc_KKplXhQQV",
    "outputId": "0119d2de-8b21-4724-c290-365866dec2c7"
   },
   "outputs": [
    {
     "name": "stdout",
     "output_type": "stream",
     "text": [
      "Set parameter Username\n",
      "Academic license - for non-commercial use only - expires 2025-10-16\n",
      "Gurobi Optimizer version 11.0.3 build v11.0.3rc0 (win64 - Windows 11.0 (22631.2))\n",
      "\n",
      "CPU model: 12th Gen Intel(R) Core(TM) i5-1235U, instruction set [SSE2|AVX|AVX2]\n",
      "Thread count: 10 physical cores, 12 logical processors, using up to 12 threads\n",
      "\n",
      "Optimize a model with 22 rows, 23 columns and 73 nonzeros\n",
      "Model fingerprint: 0x320ed790\n",
      "Variable types: 0 continuous, 23 integer (5 binary)\n",
      "Coefficient statistics:\n",
      "  Matrix range     [5e-02, 2e+06]\n",
      "  Objective range  [2e+03, 4e+09]\n",
      "  Bounds range     [1e+00, 1e+00]\n",
      "  RHS range        [1e+00, 2e+06]\n",
      "Warning: Model contains large objective coefficients\n",
      "         Consider reformulating model or setting NumericFocus parameter\n",
      "         to avoid numerical issues.\n",
      "Found heuristic solution: objective -3.41600e+09\n",
      "Presolve removed 14 rows and 11 columns\n",
      "Presolve time: 0.00s\n",
      "Presolved: 8 rows, 12 columns, 29 nonzeros\n",
      "Variable types: 0 continuous, 12 integer (2 binary)\n",
      "Found heuristic solution: objective -2.10000e+09\n",
      "\n",
      "Root relaxation: objective 2.860000e+09, 6 iterations, 0.00 seconds (0.00 work units)\n",
      "\n",
      "    Nodes    |    Current Node    |     Objective Bounds      |     Work\n",
      " Expl Unexpl |  Obj  Depth IntInf | Incumbent    BestBd   Gap | It/Node Time\n",
      "\n",
      "     0     0 2.8600e+09    0    4 -2.100e+09 2.8600e+09   236%     -    0s\n",
      "H    0     0                    1.116660e+09 2.8600e+09   156%     -    0s\n",
      "H    0     0                    2.299995e+09 2.8600e+09  24.3%     -    0s\n",
      "H    0     0                    2.585690e+09 2.8600e+09  10.6%     -    0s\n",
      "\n",
      "Cutting planes:\n",
      "  Implied bound: 1\n",
      "  Flow cover: 2\n",
      "\n",
      "Explored 1 nodes (6 simplex iterations) in 0.07 seconds (0.00 work units)\n",
      "Thread count was 12 (of 12 available processors)\n",
      "\n",
      "Solution count 5: 2.58569e+09 2.3e+09 1.11666e+09 ... -3.416e+09\n",
      "\n",
      "Optimal solution found (tolerance 1.00e-04)\n",
      "Best objective 2.585690000000e+09, best bound 2.585710000000e+09, gap 0.0008%\n",
      "\n",
      "--- Initial Optimization Solution with Hydra Open ---\n",
      "Plant[Lyra]: 0.0\n",
      "Plant[Libra]: 1.0\n",
      "Plant[Hydra]: 1.0\n",
      "Plant[New Lyra]: 1.0\n",
      "Plant[New Libra]: -0.0\n",
      "Production[Lyra,Lyra]: -0.0\n",
      "Production[Lyra,Libra]: 0.0\n",
      "Production[Lyra,Hydra]: 0.0\n",
      "Production[Libra,Lyra]: 0.0\n",
      "Production[Libra,Libra]: 799995.0\n",
      "Production[Libra,Hydra]: 0.0\n",
      "Production[Hydra,Lyra]: 0.0\n",
      "Production[Hydra,Libra]: 0.0\n",
      "Production[Hydra,Hydra]: 802858.0\n",
      "Production[New Lyra,Lyra]: 1257140.0\n",
      "Production[New Lyra,Libra]: 342855.0\n",
      "Production[New Lyra,Hydra]: 0.0\n",
      "Production[New Libra,Lyra]: -0.0\n",
      "Production[New Libra,Libra]: -0.0\n",
      "Production[New Libra,Hydra]: -0.0\n",
      "Demand[Lyra]: 1400000.0\n",
      "Demand[Libra]: 1142858.0\n",
      "Demand[Hydra]: 802858.0\n",
      "Optimal objective value: $2585690000.0\n"
     ]
    }
   ],
   "source": [
    "# Define sets of plants and cars for reference\n",
    "plants = DATA[\"Plants\"].keys()\n",
    "cars = DATA[\"Demand\"].keys()\n",
    "productions = [(plant, car) for plant in plants for car in cars]\n",
    "\n",
    "# Create a new model\n",
    "m = gp.Model('GMC')\n",
    "\n",
    "# Define variables for plant operation (binary), production amounts, and adjusted demand\n",
    "O = m.addVars(plants, vtype=GRB.BINARY, name=\"Plant\")\n",
    "P = m.addVars(productions, vtype=GRB.INTEGER, name=\"Production\", lb=0.0)\n",
    "D = m.addVars(cars, vtype=GRB.INTEGER, name=\"Demand\", lb=0.0)\n",
    "\n",
    "\n",
    "# Constraint: Prevent Lyra and Libra from being open alongside their retooled versions\n",
    "for plant in [\"Lyra\", \"Libra\"]:\n",
    "    m.addConstr(O[f\"{plant}\"] + O[f\"New {plant}\"] <= 1, name=f\"Retool_{plant}\")\n",
    "\n",
    "# Constraint: Limit total number of operational plants to exactly 3\n",
    "m.addConstr(gp.quicksum(O[plant] for plant in plants) == 3, name=\"Total_Plants\")\n",
    "\n",
    "# Constraint: Require Hydra plant to be operational initially (can be removed later)\n",
    "m.addConstr(O[\"Hydra\"] == 1, name=\"Hydra_open\")\n",
    "\n",
    "# Constraint: Set capacity limits for each plant based on its operational status\n",
    "m.addConstrs(\n",
    "    (gp.quicksum(P[(plant, car)] for car in cars) <= O[plant] * DATA[\"Plants\"][plant][\"Capacity\"] for plant in plants),\n",
    "    name=\"Capacity\"\n",
    ")\n",
    "\n",
    "# Constraint: Define adjusted demand for each car type, considering demand diversion\n",
    "m.addConstrs(\n",
    "    (D[car] == DATA[\"Demand\"][car] + gp.quicksum(\n",
    "        DATA[\"Demand Diversion\"][alternative][car] * (DATA[\"Demand\"][alternative] - gp.quicksum(P[(plant, alternative)] for plant in plants))\n",
    "        for alternative in DATA[\"Demand Diversion\"][car].keys()\n",
    "    ) for car in cars), name=\"Adjusted_Demand\"\n",
    ")\n",
    "\n",
    "# Constraint: Ensure production meets the adjusted demand for each car type\n",
    "m.addConstrs(\n",
    "    (gp.quicksum(P[(plant, car)] for plant in plants) <= D[car] for car in cars),\n",
    "    name=\"Demand_Fulfillment\"\n",
    ")\n",
    "\n",
    "# Add constraints to ensure each plant only produces specific car types\n",
    "for plant in plants:\n",
    "    for car in cars:\n",
    "        # If the plant's profit margin for a car is 0, it can't produce that car\n",
    "        if DATA[\"Plants\"][plant][\"Plant Profit Margin\"][car] == 0:\n",
    "            m.addConstr(P[(plant, car)] == 0, name=f\"{plant}_Only_{car}\")\n",
    "\n",
    "# Objective: Maximize total profit by subtracting fixed costs from total profit margin\n",
    "m.setObjective(\n",
    "    gp.quicksum(P[(plant, car)] * DATA[\"Plants\"][plant][\"Plant Profit Margin\"][car] for (plant, car) in productions) -\n",
    "    gp.quicksum(O[plant] * DATA[\"Plants\"][plant][\"Fixed Cost\"] for plant in plants), GRB.MAXIMIZE\n",
    ")\n",
    "\n",
    "# Solve the initial model with Hydra open\n",
    "m.optimize()\n",
    "\n",
    "# Helper function to display solution values and objective\n",
    "def get_solution(model):\n",
    "    for v in model.getVars():\n",
    "            print(f\"{v.VarName}: {v.X}\")\n",
    "    print(f\"Optimal objective value: ${round(model.objVal, 2)}\")\n",
    "\n",
    "# Display initial solution\n",
    "print(\"\\n--- Initial Optimization Solution with Hydra Open ---\")\n",
    "get_solution(m)"
   ]
  },
  {
   "cell_type": "code",
   "execution_count": null,
   "metadata": {
    "id": "Kf3disBDhQQV"
   },
   "outputs": [],
   "source": [
    "def get_production(car):\n",
    "    production = 0\n",
    "    for x in P.keys():\n",
    "        if x[1] == car:\n",
    "            production += P[x].X\n",
    "    return production"
   ]
  },
  {
   "cell_type": "markdown",
   "metadata": {
    "id": "2Ol1SlKLhQQW"
   },
   "source": [
    "* The decision variables in this model include:\n",
    "\n",
    "Binary Variables (O): Determines if a plant is open, with one variable for each of the 5 plant options (Lyra, Libra, Hydra, New Lyra, New Libra).\n",
    "\n",
    "Production Variables (P): Defines production levels, with one variable for each car type at each plant.\n",
    "\n",
    "Demand Variables (D): Defines demand for each car type.\n"
   ]
  },
  {
   "cell_type": "code",
   "execution_count": null,
   "metadata": {
    "colab": {
     "base_uri": "https://localhost:8080/"
    },
    "executionInfo": {
     "elapsed": 205,
     "status": "ok",
     "timestamp": 1730508131952,
     "user": {
      "displayName": "Srimukhi Sridhar Paidikondala",
      "userId": "12311320063438156495"
     },
     "user_tz": 420
    },
    "id": "XULQ_H1uF3OE",
    "outputId": "55e10e45-c6a5-4995-d076-5dd4764e92fa"
   },
   "outputs": [
    {
     "name": "stdout",
     "output_type": "stream",
     "text": [
      "Total number of decision variables: 23\n"
     ]
    }
   ],
   "source": [
    "num_decision_vars = len(O) + len(P) + len(D)\n",
    "print(f\"Total number of decision variables: {num_decision_vars}\")\n"
   ]
  },
  {
   "cell_type": "markdown",
   "metadata": {
    "id": "UTzLIOqEhQQW"
   },
   "source": [
    "* Assumption that Intentional under-production (unmet demand) for Lyra's is successful in driving more demand for the more expensive car models is true or not. We’ll calculate the unmet demand for Lyras and see how it diverts to Libras and Hydras.\n",
    "    "
   ]
  },
  {
   "cell_type": "code",
   "execution_count": null,
   "metadata": {
    "colab": {
     "base_uri": "https://localhost:8080/"
    },
    "executionInfo": {
     "elapsed": 198,
     "status": "ok",
     "timestamp": 1730508168338,
     "user": {
      "displayName": "Srimukhi Sridhar Paidikondala",
      "userId": "12311320063438156495"
     },
     "user_tz": 420
    },
    "id": "CqOkfZlAGfUU",
    "outputId": "90bde217-f75d-44dc-a186-1bf5067d9e7f"
   },
   "outputs": [
    {
     "name": "stdout",
     "output_type": "stream",
     "text": [
      "Unmet Lyra Demand: 142850.0\n",
      "Diverted to Libra: 42855.0\n",
      "Diverted to Hydra: 7142.5\n"
     ]
    }
   ],
   "source": [
    "# Calculate total production for Lyra\n",
    "lyra_production = sum(P[(plant, \"Lyra\")].X for plant in plants)\n",
    "lyra_demand = DATA[\"Demand\"][\"Lyra\"]\n",
    "unmet_lyra_demand = lyra_demand - lyra_production\n",
    "\n",
    "# Calculate diverted demand based on diversion rates\n",
    "diverted_to_libra = unmet_lyra_demand * DATA[\"Demand Diversion\"][\"Lyra\"][\"Libra\"]\n",
    "diverted_to_hydra = unmet_lyra_demand * DATA[\"Demand Diversion\"][\"Lyra\"][\"Hydra\"]\n",
    "\n",
    "print(f\"Unmet Lyra Demand: {unmet_lyra_demand}\")\n",
    "print(f\"Diverted to Libra: {diverted_to_libra}\")\n",
    "print(f\"Diverted to Hydra: {diverted_to_hydra}\")\n"
   ]
  },
  {
   "cell_type": "markdown",
   "metadata": {
    "id": "4ASqySsPhQQW"
   },
   "source": [
    "    * Lets explore if GMC should retool the Libra plant"
   ]
  },
  {
   "cell_type": "code",
   "execution_count": null,
   "metadata": {
    "colab": {
     "base_uri": "https://localhost:8080/"
    },
    "executionInfo": {
     "elapsed": 269,
     "status": "ok",
     "timestamp": 1730508206562,
     "user": {
      "displayName": "Srimukhi Sridhar Paidikondala",
      "userId": "12311320063438156495"
     },
     "user_tz": 420
    },
    "id": "hqyAr9VJIQQK",
    "outputId": "13e4c02e-d0d6-40ad-abf7-61c3b02db6c2"
   },
   "outputs": [
    {
     "name": "stdout",
     "output_type": "stream",
     "text": [
      "Gurobi Optimizer version 11.0.3 build v11.0.3rc0 (linux64 - \"Ubuntu 22.04.3 LTS\")\n",
      "\n",
      "CPU model: Intel(R) Xeon(R) CPU @ 2.20GHz, instruction set [SSE2|AVX|AVX2]\n",
      "Thread count: 1 physical cores, 2 logical processors, using up to 2 threads\n",
      "\n",
      "Optimize a model with 16 rows, 23 columns and 67 nonzeros\n",
      "Model fingerprint: 0x69a36d3b\n",
      "Variable types: 0 continuous, 23 integer (5 binary)\n",
      "Coefficient statistics:\n",
      "  Matrix range     [5e-02, 2e+06]\n",
      "  Objective range  [2e+03, 4e+09]\n",
      "  Bounds range     [1e+00, 1e+00]\n",
      "  RHS range        [1e+00, 2e+06]\n",
      "Warning: Model contains large objective coefficients\n",
      "         Consider reformulating model or setting NumericFocus parameter\n",
      "         to avoid numerical issues.\n",
      "\n",
      "MIP start from previous solve did not produce a new incumbent solution\n",
      "MIP start from previous solve violates constraint Force_Retool_Libra by 1.000000000\n",
      "\n",
      "Found heuristic solution: objective -3.41600e+09\n",
      "Presolve removed 8 rows and 10 columns\n",
      "Presolve time: 0.00s\n",
      "Presolved: 8 rows, 13 columns, 34 nonzeros\n",
      "Variable types: 0 continuous, 13 integer (1 binary)\n",
      "\n",
      "Root relaxation: objective 2.560000e+09, 6 iterations, 0.00 seconds (0.00 work units)\n",
      "\n",
      "    Nodes    |    Current Node    |     Objective Bounds      |     Work\n",
      " Expl Unexpl |  Obj  Depth IntInf | Incumbent    BestBd   Gap | It/Node Time\n",
      "\n",
      "*    0     0               0    2.560000e+09 2.5600e+09  0.00%     -    0s\n",
      "\n",
      "Explored 1 nodes (6 simplex iterations) in 0.04 seconds (0.00 work units)\n",
      "Thread count was 2 (of 2 available processors)\n",
      "\n",
      "Solution count 2: 2.56e+09 -3.416e+09 \n",
      "\n",
      "Optimal solution found (tolerance 1.00e-04)\n",
      "Best objective 2.560000000000e+09, best bound 2.560000000000e+09, gap 0.0000%\n",
      "Objective value after retooling Libra: $2560000000.0\n",
      "Plant[Lyra]: 1.0\n",
      "Plant[Hydra]: 1.0\n",
      "Plant[New Libra]: 1.0\n",
      "Production[Lyra,Lyra]: 700000.0\n",
      "Production[Hydra,Hydra]: 800000.0\n",
      "Production[New Libra,Lyra]: 700000.0\n",
      "Production[New Libra,Libra]: 1100000.0\n",
      "Demand[Lyra]: 1400000.0\n",
      "Demand[Libra]: 1100000.0\n",
      "Demand[Hydra]: 800000.0\n",
      "Optimal objective value: $2560000000.0\n"
     ]
    }
   ],
   "source": [
    "# Force retooling of the Libra plant\n",
    "m.addConstr(O[\"New Libra\"] == 1, \"Force_Retool_Libra\")\n",
    "m.optimize()\n",
    "\n",
    "# Evaluate if retooling the Libra plant results in a higher profit\n",
    "print(f\"Objective value after retooling Libra: ${round(m.objVal, 2)}\")\n",
    "get_solution(m)\n"
   ]
  },
  {
   "cell_type": "markdown",
   "metadata": {
    "id": "L69hkPfPhQQW"
   },
   "source": [
    "* Lets Calculating additional demand for Hydras due to unmet demands from Lyras and Libras."
   ]
  },
  {
   "cell_type": "code",
   "execution_count": null,
   "metadata": {
    "colab": {
     "base_uri": "https://localhost:8080/"
    },
    "executionInfo": {
     "elapsed": 189,
     "status": "ok",
     "timestamp": 1730508277723,
     "user": {
      "displayName": "Srimukhi Sridhar Paidikondala",
      "userId": "12311320063438156495"
     },
     "user_tz": 420
    },
    "id": "Sy7LSxAkIg4C",
    "outputId": "5b9dc19f-28f6-4650-9a4d-66aef5698f9c"
   },
   "outputs": [
    {
     "name": "stdout",
     "output_type": "stream",
     "text": [
      "Additional Hydra Demand: 7142.5\n"
     ]
    }
   ],
   "source": [
    "# Calculate additional demand driven for Hydras\n",
    "lyra_to_hydra = unmet_lyra_demand * DATA[\"Demand Diversion\"][\"Lyra\"][\"Hydra\"]\n",
    "libra_production = sum(P[(plant, \"Libra\")].X for plant in plants)\n",
    "unmet_libra_demand = DATA[\"Demand\"][\"Libra\"] - libra_production\n",
    "libra_to_hydra = unmet_libra_demand * DATA[\"Demand Diversion\"][\"Libra\"][\"Hydra\"]\n",
    "\n",
    "additional_hydra_demand = lyra_to_hydra + libra_to_hydra\n",
    "print(f\"Additional Hydra Demand: {additional_hydra_demand}\")\n"
   ]
  },
  {
   "cell_type": "markdown",
   "metadata": {
    "id": "wM6b2Z_PhQQX"
   },
   "source": [
    "* Lets explore if GMC can close the Hydra plant"
   ]
  },
  {
   "cell_type": "code",
   "execution_count": null,
   "metadata": {
    "colab": {
     "base_uri": "https://localhost:8080/"
    },
    "executionInfo": {
     "elapsed": 158,
     "status": "ok",
     "timestamp": 1730508382295,
     "user": {
      "displayName": "Srimukhi Sridhar Paidikondala",
      "userId": "12311320063438156495"
     },
     "user_tz": 420
    },
    "id": "Hi4DxWQQI0Fi",
    "outputId": "efa97f17-f7f0-41d9-9bfe-c980f4edff41"
   },
   "outputs": [
    {
     "name": "stdout",
     "output_type": "stream",
     "text": [
      "Gurobi Optimizer version 11.0.3 build v11.0.3rc0 (linux64 - \"Ubuntu 22.04.3 LTS\")\n",
      "\n",
      "CPU model: Intel(R) Xeon(R) CPU @ 2.20GHz, instruction set [SSE2|AVX|AVX2]\n",
      "Thread count: 1 physical cores, 2 logical processors, using up to 2 threads\n",
      "\n",
      "Optimize a model with 15 rows, 23 columns and 66 nonzeros\n",
      "Model fingerprint: 0x95bd057c\n",
      "Variable types: 0 continuous, 23 integer (5 binary)\n",
      "Coefficient statistics:\n",
      "  Matrix range     [5e-02, 2e+06]\n",
      "  Objective range  [2e+03, 4e+09]\n",
      "  Bounds range     [1e+00, 1e+00]\n",
      "  RHS range        [1e+00, 2e+06]\n",
      "Warning: Model contains large objective coefficients\n",
      "         Consider reformulating model or setting NumericFocus parameter\n",
      "         to avoid numerical issues.\n",
      "Presolved: 8 rows, 13 columns, 34 nonzeros\n",
      "\n",
      "Continuing optimization...\n",
      "\n",
      "\n",
      "Explored 1 nodes (8 simplex iterations) in 0.01 seconds (0.00 work units)\n",
      "Thread count was 2 (of 2 available processors)\n",
      "\n",
      "Solution count 1: 2.56e+09 \n",
      "\n",
      "Optimal solution found (tolerance 1.00e-04)\n",
      "Best objective 2.560000000000e+09, best bound 2.560000000000e+09, gap 0.0000%\n",
      "\n",
      "--- After Closing the Hydra Plant ---\n",
      "Plant[Lyra]: 1.0\n",
      "Plant[Hydra]: 1.0\n",
      "Plant[New Libra]: 1.0\n",
      "Production[Lyra,Lyra]: 700000.0\n",
      "Production[Hydra,Hydra]: 800000.0\n",
      "Production[New Libra,Lyra]: 700000.0\n",
      "Production[New Libra,Libra]: 1100000.0\n",
      "Demand[Lyra]: 1400000.0\n",
      "Demand[Libra]: 1100000.0\n",
      "Demand[Hydra]: 800000.0\n",
      "Optimal objective value: $2560000000.0\n"
     ]
    }
   ],
   "source": [
    "# Remove the \"open Hydra plant\" constraint and re-optimize\n",
    "hydra_constraint = m.getConstrByName(\"Hydra_open\")\n",
    "if hydra_constraint:\n",
    "    m.remove(hydra_constraint)\n",
    "    m.update()  # Update model before re-optimization\n",
    "\n",
    "m.optimize()\n",
    "print(\"\\n--- After Closing the Hydra Plant ---\")\n",
    "get_solution(m)\n"
   ]
  },
  {
   "cell_type": "markdown",
   "metadata": {
    "id": "uZ1_pRJXhQQX"
   },
   "source": [
    "* If Libra demand changes to 2,000,000. Will retooling plan change?"
   ]
  },
  {
   "cell_type": "code",
   "execution_count": null,
   "metadata": {
    "colab": {
     "base_uri": "https://localhost:8080/"
    },
    "executionInfo": {
     "elapsed": 190,
     "status": "ok",
     "timestamp": 1730508432635,
     "user": {
      "displayName": "Srimukhi Sridhar Paidikondala",
      "userId": "12311320063438156495"
     },
     "user_tz": 420
    },
    "id": "0nkjf-rcJOsT",
    "outputId": "85985089-429b-40e4-9da2-160792fe4812"
   },
   "outputs": [
    {
     "name": "stdout",
     "output_type": "stream",
     "text": [
      "Gurobi Optimizer version 11.0.3 build v11.0.3rc0 (linux64 - \"Ubuntu 22.04.3 LTS\")\n",
      "\n",
      "CPU model: Intel(R) Xeon(R) CPU @ 2.20GHz, instruction set [SSE2|AVX|AVX2]\n",
      "Thread count: 1 physical cores, 2 logical processors, using up to 2 threads\n",
      "\n",
      "Optimize a model with 15 rows, 23 columns and 66 nonzeros\n",
      "Model fingerprint: 0x95bd057c\n",
      "Variable types: 0 continuous, 23 integer (5 binary)\n",
      "Coefficient statistics:\n",
      "  Matrix range     [5e-02, 2e+06]\n",
      "  Objective range  [2e+03, 4e+09]\n",
      "  Bounds range     [1e+00, 1e+00]\n",
      "  RHS range        [1e+00, 2e+06]\n",
      "Warning: Model contains large objective coefficients\n",
      "         Consider reformulating model or setting NumericFocus parameter\n",
      "         to avoid numerical issues.\n",
      "Presolved: 8 rows, 13 columns, 34 nonzeros\n",
      "\n",
      "Continuing optimization...\n",
      "\n",
      "\n",
      "Explored 1 nodes (8 simplex iterations) in 0.02 seconds (0.00 work units)\n",
      "Thread count was 2 (of 2 available processors)\n",
      "\n",
      "Solution count 1: 2.56e+09 \n",
      "\n",
      "Optimal solution found (tolerance 1.00e-04)\n",
      "Best objective 2.560000000000e+09, best bound 2.560000000000e+09, gap 0.0000%\n",
      "\n",
      "--- After Increasing Demand for Libra to 2,000,000 ---\n",
      "Does the retooling plan change? Yes\n",
      "Plant[Lyra]: 1.0\n",
      "Plant[Hydra]: 1.0\n",
      "Plant[New Libra]: 1.0\n",
      "Production[Lyra,Lyra]: 700000.0\n",
      "Production[Hydra,Hydra]: 800000.0\n",
      "Production[New Libra,Lyra]: 700000.0\n",
      "Production[New Libra,Libra]: 1100000.0\n",
      "Demand[Lyra]: 1400000.0\n",
      "Demand[Libra]: 1100000.0\n",
      "Demand[Hydra]: 800000.0\n",
      "Optimal objective value: $2560000000.0\n"
     ]
    }
   ],
   "source": [
    "# Update Libra demand\n",
    "DATA[\"Demand\"][\"Libra\"] = 2000 * 1000\n",
    "m.update()  # Ensures data update in the model\n",
    "m.optimize()\n",
    "retooled_libra = O[\"New Libra\"].X == 1\n",
    "print(\"\\n--- After Increasing Demand for Libra to 2,000,000 ---\")\n",
    "print(f\"Does the retooling plan change? {'Yes' if retooled_libra else 'No'}\")\n",
    "get_solution(m)\n"
   ]
  }
 ],
 "metadata": {
  "colab": {
   "provenance": []
  },
  "kernelspec": {
   "display_name": "Python 3 (ipykernel)",
   "language": "python",
   "name": "python3"
  },
  "language_info": {
   "codemirror_mode": {
    "name": "ipython",
    "version": 3
   },
   "file_extension": ".py",
   "mimetype": "text/x-python",
   "name": "python",
   "nbconvert_exporter": "python",
   "pygments_lexer": "ipython3",
   "version": "3.11.5"
  }
 },
 "nbformat": 4,
 "nbformat_minor": 1
}
